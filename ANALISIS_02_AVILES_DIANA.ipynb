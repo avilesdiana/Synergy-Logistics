{
 "cells": [
  {
   "cell_type": "markdown",
   "metadata": {},
   "source": [
    "# Análisis de datos Synergy Logistics \n",
    "## Propuesta Operativa 2021\n",
    "> Por Diana Aviles"
   ]
  },
  {
   "cell_type": "markdown",
   "metadata": {},
   "source": [
    "<hr>\n",
    "<b> Descripción del código </b>\n",
    "<br> <br>\n",
    "<i> Importamos las librerías </i>"
   ]
  },
  {
   "cell_type": "code",
   "execution_count": 4,
   "metadata": {},
   "outputs": [],
   "source": [
    "import pandas as pd\n",
    "import seaborn as sns #para graficar\n",
    "import matplotlib.pyplot as pl #para guardar el grafico en imagen\n"
   ]
  },
  {
   "cell_type": "markdown",
   "metadata": {},
   "source": [
    "<i> Abrimos la base de datos a analizar </i>"
   ]
  },
  {
   "cell_type": "code",
   "execution_count": 9,
   "metadata": {},
   "outputs": [],
   "source": [
    "data = pd.read_csv('synergy_logistics_database.csv', index_col = 0, parse_dates = [5])\n",
    "#data.info()\n"
   ]
  },
  {
   "cell_type": "markdown",
   "metadata": {},
   "source": [
    "<br>"
   ]
  },
  {
   "cell_type": "markdown",
   "metadata": {},
   "source": [
    "\n",
    "### RUTAS MÁS DEMANDADAS\n",
    "<hr>"
   ]
  },
  {
   "cell_type": "markdown",
   "metadata": {},
   "source": [
    "<i> Analizaremos las rutas demandadas dependiendo su dirección, origen y destino, se filtra la base de datos con esta información para dar el porcentaje de ganancias y el total servicios por ruta</i>"
   ]
  },
  {
   "cell_type": "code",
   "execution_count": 102,
   "metadata": {},
   "outputs": [],
   "source": [
    "rutas_demandadas = data.groupby(by=['direction', 'origin','destination'])\n",
    "suma = rutas_demandadas.sum()['total_value']\n",
    "rutas_demandadas = rutas_demandadas['total_value'].describe()\n",
    "rutas_demandadas['suma_total'] = suma\n",
    "rutas_demandadas = rutas_demandadas.reset_index()\n"
   ]
  },
  {
   "cell_type": "markdown",
   "metadata": {},
   "source": [
    "> Exportaciones"
   ]
  },
  {
   "cell_type": "code",
   "execution_count": 103,
   "metadata": {},
   "outputs": [
    {
     "name": "stdout",
     "output_type": "stream",
     "text": [
      "\n",
      "Las rutas más demandadas en Exportaciones son:\n",
      "\n",
      "          origin  destination  count\n",
      "118  South Korea      Vietnam  497.0\n",
      "95   Netherlands      Belgium  437.0\n",
      "135          USA  Netherlands  436.0\n",
      "32         China       Mexico  330.0\n",
      "75         Japan       Brazil  306.0\n",
      "51       Germany       France  299.0\n",
      "115  South Korea        Japan  279.0\n",
      "3      Australia    Singapore  273.0\n",
      "24        Canada       Mexico  261.0\n",
      "35         China        Spain  250.0\n",
      "\n",
      "Las 10 rutas mas demandadas en Exportaciones aportan 28.13% de las ganacias, en un total de 3368.0 servicios\n"
     ]
    }
   ],
   "source": [
    "#Exportaciones\n",
    "\n",
    "exportaciones = rutas_ordenadas[rutas_ordenadas['direction'] == 'Exports']\n",
    "mas_usadas = exportaciones.sort_values('count', ascending= False).head(10)\n",
    "\n",
    "valor_total_exportaciones = exportaciones['suma_total'].sum()\n",
    "top = mas_usadas.suma_total.sum()\n",
    "\n",
    "total_usos = mas_usadas['count'].sum()\n",
    "porcentaje_ganancias = (top/ valor_total_exportaciones)*10000\n",
    "porcentaje_ganancias = int(porcentaje_ganancias)/100\n",
    "\n",
    "print('\\nLas rutas más demandadas en Exportaciones son:\\n')\n",
    "print(mas_usadas.iloc[:, 1:4])\n",
    "print(f'\\nLas 10 rutas mas demandadas en Exportaciones aportan {porcentaje_ganancias}% de las ganacias, en un total de {total_usos} servicios')"
   ]
  },
  {
   "cell_type": "markdown",
   "metadata": {},
   "source": [
    "> Importaciones"
   ]
  },
  {
   "cell_type": "code",
   "execution_count": 104,
   "metadata": {},
   "outputs": [
    {
     "name": "stdout",
     "output_type": "stream",
     "text": [
      "\n",
      "Las rutas más demandadas en Importaciones son:\n",
      "\n",
      "        origin           destination  count\n",
      "177  Singapore              Thailand  273.0\n",
      "156    Germany                 China  233.0\n",
      "148      China                 Japan  210.0\n",
      "164      Japan                Mexico  206.0\n",
      "151      China              Thailand  200.0\n",
      "170   Malaysia              Thailand  195.0\n",
      "182      Spain               Germany  142.0\n",
      "175     Mexico                   USA  122.0\n",
      "153      China  United Arab Emirates  114.0\n",
      "145     Brazil                 China  113.0\n",
      "\n",
      "Las 10 rutas mas demandadas en Importaciones aportan 17.47% de las ganacias, en un total de 1808.0 servicios\n"
     ]
    }
   ],
   "source": [
    "#Importaciones\n",
    "importaciones = rutas_ordenadas[rutas_ordenadas['direction'] == 'Imports']\n",
    "mas_usadas = importaciones.sort_values('count', ascending= False).head(10)\n",
    "\n",
    "valor_total_exportaciones = exportaciones['suma_total'].sum()\n",
    "top = mas_usadas.suma_total.sum()\n",
    "\n",
    "total_usos = mas_usadas['count'].sum()\n",
    "porcentaje_ganancias = (top/ valor_total_exportaciones)*10000\n",
    "porcentaje_ganancias = int(porcentaje_ganancias)/100\n",
    "\n",
    "print('\\nLas rutas más demandadas en Importaciones son:\\n')\n",
    "print(mas_usadas.iloc[:, 1:4])\n",
    "print(f'\\nLas 10 rutas mas demandadas en Importaciones aportan {porcentaje_ganancias}% de las ganacias, en un total de {total_usos} servicios')"
   ]
  },
  {
   "cell_type": "markdown",
   "metadata": {},
   "source": [
    "### MEDIO DE TRANSPORTE MÁS UTILIZADO POR AÑO"
   ]
  },
  {
   "cell_type": "code",
   "execution_count": 110,
   "metadata": {},
   "outputs": [
    {
     "name": "stdout",
     "output_type": "stream",
     "text": [
      "                     valor_total  frecuencia\n",
      "year transport_mode                         \n",
      "2020 Sea             13762190000      1481.0\n",
      "     Rail             8510363000       532.0\n",
      "     Air              6978599000       312.0\n",
      "     Road              967088000       222.0\n",
      "2019 Sea              9930953000      1299.0\n",
      "     Road             8732171000       668.0\n",
      "     Rail             4522366000       327.0\n",
      "     Air              7544995000       278.0\n",
      "2018 Sea             10338148000      1051.0\n",
      "     Rail            10146394000       700.0\n",
      "     Road             5872062000       495.0\n",
      "     Air              1076374000       326.0\n",
      "2017 Sea             10016463000      1611.0\n",
      "     Air              8777068000       504.0\n",
      "     Rail             5108234000       378.0\n",
      "     Road             1473000000        80.0\n",
      "2016 Sea             13189041000      1572.0\n",
      "     Rail             4260198000       439.0\n",
      "     Road             3247088000       280.0\n",
      "     Air              2915111000       274.0\n",
      "2015 Sea              8355827000      1420.0\n",
      "     Rail             1957488000       404.0\n",
      "     Road             6989077000       404.0\n",
      "     Air              5493000000       351.0\n"
     ]
    }
   ],
   "source": [
    "#Medio de transporte más utilizado por Exportación\n",
    "exportaciones_transporte = data[data['direction'] == 'Exports']\n",
    "transporte_masUsado_anual_E = exportaciones_transporte.groupby(by = ['year','transport_mode'])\n",
    "valor_anual_transporte_E = transporte_masUsado_anual_E['total_value'].agg(pd.Series.sum)\n",
    "\n",
    "top_transporte_E = pd.DataFrame()\n",
    "top_transporte_E['valor_total']= valor_anual_transporte_E\n",
    "top_transporte_E['frecuencia'] = transporte_masUsado_anual_E['total_value'].describe()['count']\n",
    "top_transporte_E = top_transporte_E.sort_values(by = ['year', 'frecuencia'], ascending= False)\n",
    "\n",
    "print(top_transporte_E)"
   ]
  },
  {
   "cell_type": "code",
   "execution_count": 111,
   "metadata": {},
   "outputs": [
    {
     "data": {
      "image/png": "[encoded data removed]",
      "text/plain": [
       "<Figure size 432x288 with 1 Axes>"
      ]
     },
     "metadata": {
      "needs_background": "light"
     },
     "output_type": "display_data"
    }
   ],
   "source": [
    "#Grafica Transportes Exportaciones\n",
    "sns.lineplot(data = top_transporte_E, x='year', y='frecuencia', hue='transport_mode')\n",
    "plt.savefig('Top_transporte_Exportaciones.png')"
   ]
  },
  {
   "cell_type": "code",
   "execution_count": 113,
   "metadata": {},
   "outputs": [
    {
     "name": "stdout",
     "output_type": "stream",
     "text": [
      "                     valor_total  frecuencia\n",
      "year transport_mode                         \n",
      "2020 Sea              6094000000       421.0\n",
      "     Road             2086000000        88.0\n",
      "     Rail             1401000000        50.0\n",
      "     Air               241000000        49.0\n",
      "2019 Sea              8556000000       514.0\n",
      "     Air              1493000000        80.0\n",
      "     Rail              162000000        14.0\n",
      "2018 Sea              7204000000       425.0\n",
      "     Air              1381000000        73.0\n",
      "     Road              630000000        61.0\n",
      "     Rail              486000000        49.0\n",
      "2017 Rail             3375000000       282.0\n",
      "     Sea              4822000000       263.0\n",
      "     Air               288000000        32.0\n",
      "     Road              569000000        31.0\n",
      "2016 Sea              5311000000       432.0\n",
      "     Rail             1219000000        68.0\n",
      "     Road             1463000000        64.0\n",
      "     Air               544000000        44.0\n",
      "2015 Road             1242000000       205.0\n",
      "     Sea              2951000000       199.0\n",
      "     Rail             2480000000       138.0\n",
      "     Air              1530000000        66.0\n"
     ]
    }
   ],
   "source": [
    "#Medio de transporte más utilizado por Importación\n",
    "importaciones_transporte = data[data['direction'] == 'Imports']\n",
    "transporte_masUsado_anual_I = importaciones_transporte.groupby(by = ['year','transport_mode'])\n",
    "valor_anual_transporte_I = transporte_masUsado_anual_I['total_value'].agg(pd.Series.sum)\n",
    "\n",
    "top_transporte_I = pd.DataFrame()\n",
    "top_transporte_I['valor_total']= valor_anual_transporte_I\n",
    "top_transporte_I['frecuencia'] = transporte_masUsado_anual_I['total_value'].describe()['count']\n",
    "top_transporte_I = top_transporte_I.sort_values(by = ['year', 'frecuencia'], ascending= False)\n",
    "\n",
    "print(top_transporte_I)"
   ]
  },
  {
   "cell_type": "code",
   "execution_count": 115,
   "metadata": {},
   "outputs": [
    {
     "data": {
      "image/png": "[encoded data removed]",
      "text/plain": [
       "<Figure size 432x288 with 1 Axes>"
      ]
     },
     "metadata": {
      "needs_background": "light"
     },
     "output_type": "display_data"
    }
   ],
   "source": [
    "#Grafica Transportes Importaciones\n",
    "sns.lineplot(data = top_transporte_I, x='year', y='frecuencia', hue='transport_mode')\n",
    "plt.savefig('Top_transporte_Importaciones.png')"
   ]
  },
  {
   "cell_type": "markdown",
   "metadata": {},
   "source": [
    "### VALOR TOTAL DE IMPORTACIONES Y EXPORTACIONES\n"
   ]
  },
  {
   "cell_type": "code",
   "execution_count": 136,
   "metadata": {},
   "outputs": [
    {
     "name": "stdout",
     "output_type": "stream",
     "text": [
      "\n",
      " Paises con +80% valor en Exportaciones:\n",
      " \n",
      "                count  porcentaje_acumulado\n",
      "origin                                     \n",
      "Canada          603.0             82.270433\n",
      "Italy           562.0             85.621191\n",
      "Netherlands     796.0             88.193796\n",
      "Spain           295.0             90.327868\n",
      "United Kingdom  871.0             92.062105\n",
      "India           565.0             93.701682\n",
      "Belgium         243.0             95.317533\n",
      "Brazil          396.0             96.737334\n",
      "Switzerland     249.0             98.082211\n",
      "Australia       863.0             99.112410\n",
      "Mexico          772.0             99.998852\n",
      "Austria         437.0             99.999573\n",
      "Singapore       264.0            100.000000\n"
     ]
    }
   ],
   "source": [
    "ganancias_E= exportaciones.groupby(by=['origin']).sum()\n",
    "valor_total_EX = ganancias_E['suma_total'].sum()\n",
    "ganancias_E['porcentaje'] = (ganancias_E['suma_total']/ valor_total_EX)*100\n",
    "\n",
    "ganancias_E = ganancias_E.sort_values('porcentaje',ascending = False)\n",
    "suma_porcentaje_E = ganancias_E.cumsum()['porcentaje']\n",
    "\n",
    "\n",
    "ganancias_E['porcentaje_acumulado'] = suma_porcentaje_E\n",
    "\n",
    "paises_mas_80_valor_E = ganancias_E[ ganancias_E['porcentaje_acumulado'] > 80]\n",
    "\n",
    "print('\\n Paises con +80% valor en Exportaciones:\\n ')\n",
    "print(paises_mas_80_valor_E.iloc[:,[0,-1]])\n"
   ]
  },
  {
   "cell_type": "code",
   "execution_count": 138,
   "metadata": {},
   "outputs": [
    {
     "name": "stdout",
     "output_type": "stream",
     "text": [
      "\n",
      " Paises con +80% valor en Importaciones:\n",
      " \n",
      "                      count  porcentaje_acumulado\n",
      "origin                                           \n",
      "Malaysia              199.0             82.760049\n",
      "Spain                 183.0             88.164530\n",
      "France                169.0             90.534505\n",
      "Italy                  86.0             92.818038\n",
      "Australia             102.0             94.474860\n",
      "Russia                 42.0             96.007420\n",
      "Canada                 47.0             97.032128\n",
      "Vietnam                18.0             98.004610\n",
      "Brazil                119.0             98.885247\n",
      "United Arab Emirates   20.0             99.553378\n",
      "United Kingdom         58.0            100.000000\n"
     ]
    }
   ],
   "source": [
    "ganancias_I= importaciones.groupby(by=['origin']).sum()\n",
    "valor_total_IM = ganancias_I['suma_total'].sum()\n",
    "ganancias_I['porcentaje'] = (ganancias_I['suma_total']/ valor_total_IM)*100\n",
    "\n",
    "ganancias_I = ganancias_I.sort_values('porcentaje',ascending = False)\n",
    "suma_porcentaje_I = ganancias_I.cumsum()['porcentaje']\n",
    "\n",
    "\n",
    "ganancias_I['porcentaje_acumulado'] = suma_porcentaje_I\n",
    "\n",
    "paises_mas_80_valor_I = ganancias_I[ ganancias_I['porcentaje_acumulado'] > 80]\n",
    "\n",
    "print('\\n Paises con +80% valor en Importaciones:\\n ')\n",
    "print(paises_mas_80_valor_I.iloc[:,[0,-1]])\n"
   ]
  }
 ],
 "metadata": {
  "interpreter": {
   "hash": "767d51c1340bd893661ea55ea3124f6de3c7a262a8b4abca0554b478b1e2ff90"
  },
  "kernelspec": {
   "display_name": "Python 2.7.16 64-bit",
   "language": "python",
   "name": "python3"
  },
  "language_info": {
   "codemirror_mode": {
    "name": "ipython",
    "version": 3
   },
   "file_extension": ".py",
   "mimetype": "text/x-python",
   "name": "python",
   "nbconvert_exporter": "python",
   "pygments_lexer": "ipython3",
   "version": "3.9.7"
  },
  "orig_nbformat": 4
 },
 "nbformat": 4,
 "nbformat_minor": 2
}
