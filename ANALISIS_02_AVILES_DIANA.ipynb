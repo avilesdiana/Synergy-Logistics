{
 "cells": [
  {
   "cell_type": "markdown",
   "metadata": {},
   "source": [
    "# Análisis de datos Synergy Logistics \n",
    "## Propuesta Operativa 2021\n",
    "> Por Diana Aviles"
   ]
  },
  {
   "cell_type": "markdown",
   "metadata": {},
   "source": [
    "<hr>\n",
    "<b> Descripción del código </b>\n",
    "<br> <br>\n",
    "<i> Importamos las librerías </i>"
   ]
  },
  {
   "cell_type": "code",
   "execution_count": 19,
   "metadata": {},
   "outputs": [],
   "source": [
    "import pandas as pd\n",
    "import numpy as np"
   ]
  },
  {
   "cell_type": "markdown",
   "metadata": {},
   "source": [
    "<i> Comentarios </i>"
   ]
  },
  {
   "cell_type": "markdown",
   "metadata": {},
   "source": [
    "<i> Pruebas </i>"
   ]
  },
  {
   "cell_type": "code",
   "execution_count": 20,
   "metadata": {},
   "outputs": [
    {
     "data": {
      "text/plain": [
       "215691298000"
      ]
     },
     "execution_count": 20,
     "metadata": {},
     "output_type": "execute_result"
    }
   ],
   "source": [
    "data = pd.read_csv('synergy_logistics_database.csv')\n",
    "data.columns\n",
    "data['total_value'].sum()"
   ]
  },
  {
   "cell_type": "markdown",
   "metadata": {},
   "source": [
    "### Rutas de importación y exportación"
   ]
  },
  {
   "cell_type": "markdown",
   "metadata": {},
   "source": [
    "<i> Comentarios </i>"
   ]
  },
  {
   "cell_type": "code",
   "execution_count": 29,
   "metadata": {},
   "outputs": [
    {
     "data": {
      "text/html": [
       "<div>\n",
       "<style scoped>\n",
       "    .dataframe tbody tr th:only-of-type {\n",
       "        vertical-align: middle;\n",
       "    }\n",
       "\n",
       "    .dataframe tbody tr th {\n",
       "        vertical-align: top;\n",
       "    }\n",
       "\n",
       "    .dataframe thead th {\n",
       "        text-align: right;\n",
       "    }\n",
       "</style>\n",
       "<table border=\"1\" class=\"dataframe\">\n",
       "  <thead>\n",
       "    <tr style=\"text-align: right;\">\n",
       "      <th></th>\n",
       "      <th>register_id</th>\n",
       "      <th>direction</th>\n",
       "      <th>origin</th>\n",
       "      <th>destination</th>\n",
       "      <th>year</th>\n",
       "      <th>date</th>\n",
       "      <th>product</th>\n",
       "      <th>transport_mode</th>\n",
       "      <th>company_name</th>\n",
       "      <th>total_value</th>\n",
       "    </tr>\n",
       "  </thead>\n",
       "  <tbody>\n",
       "    <tr>\n",
       "      <th>0</th>\n",
       "      <td>1</td>\n",
       "      <td>Exports</td>\n",
       "      <td>Japan</td>\n",
       "      <td>China</td>\n",
       "      <td>2015</td>\n",
       "      <td>31/01/15</td>\n",
       "      <td>Cars</td>\n",
       "      <td>Sea</td>\n",
       "      <td>Honda</td>\n",
       "      <td>33000000</td>\n",
       "    </tr>\n",
       "    <tr>\n",
       "      <th>1</th>\n",
       "      <td>2</td>\n",
       "      <td>Exports</td>\n",
       "      <td>Japan</td>\n",
       "      <td>China</td>\n",
       "      <td>2015</td>\n",
       "      <td>01/02/15</td>\n",
       "      <td>Cars</td>\n",
       "      <td>Sea</td>\n",
       "      <td>Honda</td>\n",
       "      <td>16000000</td>\n",
       "    </tr>\n",
       "    <tr>\n",
       "      <th>2</th>\n",
       "      <td>3</td>\n",
       "      <td>Exports</td>\n",
       "      <td>Japan</td>\n",
       "      <td>China</td>\n",
       "      <td>2015</td>\n",
       "      <td>02/02/15</td>\n",
       "      <td>Cars</td>\n",
       "      <td>Sea</td>\n",
       "      <td>Honda</td>\n",
       "      <td>29000000</td>\n",
       "    </tr>\n",
       "    <tr>\n",
       "      <th>3</th>\n",
       "      <td>4</td>\n",
       "      <td>Exports</td>\n",
       "      <td>Japan</td>\n",
       "      <td>China</td>\n",
       "      <td>2015</td>\n",
       "      <td>03/02/15</td>\n",
       "      <td>Cars</td>\n",
       "      <td>Sea</td>\n",
       "      <td>Honda</td>\n",
       "      <td>14000000</td>\n",
       "    </tr>\n",
       "    <tr>\n",
       "      <th>4</th>\n",
       "      <td>5</td>\n",
       "      <td>Exports</td>\n",
       "      <td>Japan</td>\n",
       "      <td>China</td>\n",
       "      <td>2015</td>\n",
       "      <td>04/02/15</td>\n",
       "      <td>Cars</td>\n",
       "      <td>Sea</td>\n",
       "      <td>Honda</td>\n",
       "      <td>17000000</td>\n",
       "    </tr>\n",
       "    <tr>\n",
       "      <th>...</th>\n",
       "      <td>...</td>\n",
       "      <td>...</td>\n",
       "      <td>...</td>\n",
       "      <td>...</td>\n",
       "      <td>...</td>\n",
       "      <td>...</td>\n",
       "      <td>...</td>\n",
       "      <td>...</td>\n",
       "      <td>...</td>\n",
       "      <td>...</td>\n",
       "    </tr>\n",
       "    <tr>\n",
       "      <th>15403</th>\n",
       "      <td>15404</td>\n",
       "      <td>Exports</td>\n",
       "      <td>Netherlands</td>\n",
       "      <td>Belgium</td>\n",
       "      <td>2020</td>\n",
       "      <td>27/06/20</td>\n",
       "      <td>Meat</td>\n",
       "      <td>Road</td>\n",
       "      <td>Dutch Meat Bv</td>\n",
       "      <td>0</td>\n",
       "    </tr>\n",
       "    <tr>\n",
       "      <th>15404</th>\n",
       "      <td>15405</td>\n",
       "      <td>Exports</td>\n",
       "      <td>Netherlands</td>\n",
       "      <td>Belgium</td>\n",
       "      <td>2020</td>\n",
       "      <td>28/06/20</td>\n",
       "      <td>Meat</td>\n",
       "      <td>Road</td>\n",
       "      <td>Dutch Meat Bv</td>\n",
       "      <td>0</td>\n",
       "    </tr>\n",
       "    <tr>\n",
       "      <th>15405</th>\n",
       "      <td>15406</td>\n",
       "      <td>Exports</td>\n",
       "      <td>Netherlands</td>\n",
       "      <td>Belgium</td>\n",
       "      <td>2020</td>\n",
       "      <td>29/06/20</td>\n",
       "      <td>Meat</td>\n",
       "      <td>Road</td>\n",
       "      <td>Dutch Meat Bv</td>\n",
       "      <td>9000</td>\n",
       "    </tr>\n",
       "    <tr>\n",
       "      <th>15406</th>\n",
       "      <td>15407</td>\n",
       "      <td>Exports</td>\n",
       "      <td>Netherlands</td>\n",
       "      <td>Belgium</td>\n",
       "      <td>2020</td>\n",
       "      <td>30/06/20</td>\n",
       "      <td>Meat</td>\n",
       "      <td>Road</td>\n",
       "      <td>Dutch Meat Bv</td>\n",
       "      <td>1000</td>\n",
       "    </tr>\n",
       "    <tr>\n",
       "      <th>15407</th>\n",
       "      <td>15408</td>\n",
       "      <td>Exports</td>\n",
       "      <td>Netherlands</td>\n",
       "      <td>Belgium</td>\n",
       "      <td>2020</td>\n",
       "      <td>01/07/20</td>\n",
       "      <td>Meat</td>\n",
       "      <td>Road</td>\n",
       "      <td>Dutch Meat Bv</td>\n",
       "      <td>4000</td>\n",
       "    </tr>\n",
       "  </tbody>\n",
       "</table>\n",
       "<p>15408 rows × 10 columns</p>\n",
       "</div>"
      ],
      "text/plain": [
       "       register_id direction       origin destination  year      date product  \\\n",
       "0                1   Exports        Japan       China  2015  31/01/15    Cars   \n",
       "1                2   Exports        Japan       China  2015  01/02/15    Cars   \n",
       "2                3   Exports        Japan       China  2015  02/02/15    Cars   \n",
       "3                4   Exports        Japan       China  2015  03/02/15    Cars   \n",
       "4                5   Exports        Japan       China  2015  04/02/15    Cars   \n",
       "...            ...       ...          ...         ...   ...       ...     ...   \n",
       "15403        15404   Exports  Netherlands     Belgium  2020  27/06/20    Meat   \n",
       "15404        15405   Exports  Netherlands     Belgium  2020  28/06/20    Meat   \n",
       "15405        15406   Exports  Netherlands     Belgium  2020  29/06/20    Meat   \n",
       "15406        15407   Exports  Netherlands     Belgium  2020  30/06/20    Meat   \n",
       "15407        15408   Exports  Netherlands     Belgium  2020  01/07/20    Meat   \n",
       "\n",
       "      transport_mode   company_name  total_value  \n",
       "0                Sea          Honda     33000000  \n",
       "1                Sea          Honda     16000000  \n",
       "2                Sea          Honda     29000000  \n",
       "3                Sea          Honda     14000000  \n",
       "4                Sea          Honda     17000000  \n",
       "...              ...            ...          ...  \n",
       "15403           Road  Dutch Meat Bv            0  \n",
       "15404           Road  Dutch Meat Bv            0  \n",
       "15405           Road  Dutch Meat Bv         9000  \n",
       "15406           Road  Dutch Meat Bv         1000  \n",
       "15407           Road  Dutch Meat Bv         4000  \n",
       "\n",
       "[15408 rows x 10 columns]"
      ]
     },
     "execution_count": 29,
     "metadata": {},
     "output_type": "execute_result"
    }
   ],
   "source": [
    "orgiw = data.groupby(['direction'])\n",
    "orgiw.get_group('Exports')\n"
   ]
  },
  {
   "cell_type": "markdown",
   "metadata": {},
   "source": [
    "### Medio de transporte utilizado"
   ]
  },
  {
   "cell_type": "markdown",
   "metadata": {},
   "source": [
    "### Valor total de importaciones y exportaciones"
   ]
  }
 ],
 "metadata": {
  "interpreter": {
   "hash": "767d51c1340bd893661ea55ea3124f6de3c7a262a8b4abca0554b478b1e2ff90"
  },
  "kernelspec": {
   "display_name": "Python 2.7.16 64-bit",
   "language": "python",
   "name": "python3"
  },
  "language_info": {
   "codemirror_mode": {
    "name": "ipython",
    "version": 3
   },
   "file_extension": ".py",
   "mimetype": "text/x-python",
   "name": "python",
   "nbconvert_exporter": "python",
   "pygments_lexer": "ipython3",
   "version": "3.9.7"
  },
  "orig_nbformat": 4
 },
 "nbformat": 4,
 "nbformat_minor": 2
}
